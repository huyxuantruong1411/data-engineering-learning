{
 "cells": [
  {
   "cell_type": "code",
   "execution_count": 1,
   "metadata": {},
   "outputs": [
    {
     "name": "stdout",
     "output_type": "stream",
     "text": [
      "mangadex_related: 82279 documents\n",
      "mangadex_manga: 86862 documents\n",
      "mangadex_statistics: 86862 documents\n",
      "mangadex_chapters: 1780586 documents\n",
      "mangadex_tags: 76 documents\n",
      "mangadex_creators: 49934 documents\n",
      "mangadex_groups: 21504 documents\n",
      "mangadex_cover_arts: 82244 documents\n"
     ]
    }
   ],
   "source": [
    "from pymongo import MongoClient\n",
    "client = MongoClient(\"mongodb://localhost:27017/\")\n",
    "db = client[\"manga_raw_data\"]\n",
    "for coll in db.list_collection_names():\n",
    "    print(f\"{coll}: {db[coll].count_documents({})} documents\")"
   ]
  },
  {
   "cell_type": "code",
   "execution_count": 2,
   "metadata": {},
   "outputs": [
    {
     "name": "stdout",
     "output_type": "stream",
     "text": [
      "2010\n"
     ]
    }
   ],
   "source": [
    "a = \"2010.0\"\n",
    "print(a[:-2])"
   ]
  }
 ],
 "metadata": {
  "kernelspec": {
   "display_name": "Python 3",
   "language": "python",
   "name": "python3"
  },
  "language_info": {
   "codemirror_mode": {
    "name": "ipython",
    "version": 3
   },
   "file_extension": ".py",
   "mimetype": "text/x-python",
   "name": "python",
   "nbconvert_exporter": "python",
   "pygments_lexer": "ipython3",
   "version": "3.13.2"
  }
 },
 "nbformat": 4,
 "nbformat_minor": 2
}
